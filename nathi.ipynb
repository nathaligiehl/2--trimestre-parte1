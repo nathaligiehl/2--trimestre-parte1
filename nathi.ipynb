{
  "nbformat": 4,
  "nbformat_minor": 0,
  "metadata": {
    "colab": {
      "provenance": [],
      "include_colab_link": true
    },
    "kernelspec": {
      "name": "python3",
      "display_name": "Python 3"
    },
    "language_info": {
      "name": "python"
    }
  },
  "cells": [
    {
      "cell_type": "markdown",
      "metadata": {
        "id": "view-in-github",
        "colab_type": "text"
      },
      "source": [
        "<a href=\"https://colab.research.google.com/github/nathaligiehl/2--trimestre-parte1/blob/main/nathi.ipynb\" target=\"_parent\"><img src=\"https://colab.research.google.com/assets/colab-badge.svg\" alt=\"Open In Colab\"/></a>"
      ]
    },
    {
      "cell_type": "code",
      "source": [
        "print(\"I Competição de Programação da Start\")"
      ],
      "metadata": {
        "colab": {
          "base_uri": "https://localhost:8080/"
        },
        "id": "As7u4tl6vASU",
        "outputId": "272921ff-7fb4-4be1-e468-21f22f240565"
      },
      "execution_count": 1,
      "outputs": [
        {
          "output_type": "stream",
          "name": "stdout",
          "text": [
            "I Competição de Programação da Start\n"
          ]
        }
      ]
    },
    {
      "cell_type": "code",
      "source": [
        "ano = \"II\"\n",
        "\n",
        "print(ano, \"Competição de Programação da Start\")"
      ],
      "metadata": {
        "colab": {
          "base_uri": "https://localhost:8080/"
        },
        "id": "-kLPKftcxTAl",
        "outputId": "41c4b26d-2631-4d41-965a-5aa6d9be8bb7"
      },
      "execution_count": 2,
      "outputs": [
        {
          "output_type": "stream",
          "name": "stdout",
          "text": [
            "II Competição de Programação da Start\n"
          ]
        }
      ]
    },
    {
      "cell_type": "code",
      "source": [
        "print(f\"{ano} Competição de Programação da Start\")"
      ],
      "metadata": {
        "colab": {
          "base_uri": "https://localhost:8080/"
        },
        "id": "WLUAVjl4xvuW",
        "outputId": "46ccc439-4fd4-4c25-ed48-10269a191f8c"
      },
      "execution_count": 3,
      "outputs": [
        {
          "output_type": "stream",
          "name": "stdout",
          "text": [
            "II Competição de Programação da Start\n"
          ]
        }
      ]
    },
    {
      "cell_type": "code",
      "source": [
        "livro_ficcao = 10\n",
        "livro_nficcao = 8\n",
        "livro_infantil = 6\n",
        "\n",
        "pontos_rodrigo = livro_ficcao + livro_nficcao + livro_infantil\n",
        "\n",
        "print(f\"Os pontos totais do Rodrigo são: {pontos_rodrigo}\")"
      ],
      "metadata": {
        "colab": {
          "base_uri": "https://localhost:8080/"
        },
        "id": "GQRpxCIk4B_O",
        "outputId": "4e1bbef3-2817-491e-eab6-1efc9ea91ff5"
      },
      "execution_count": 4,
      "outputs": [
        {
          "output_type": "stream",
          "name": "stdout",
          "text": [
            "Os pontos totais do Rodrigo são: 24\n"
          ]
        }
      ]
    },
    {
      "cell_type": "code",
      "source": [
        "total_figurinhas = int(input(\"Digite o total de figurinhas: \"))\n",
        "numero_amigos = int(input(\"Digite o número de amigos: \"))\n",
        "\n",
        "figurinhas_amigos = total_figurinhas // (numero_amigos + 2)\n",
        "figurinhas_joao = 2 * figurinhas_amigos\n",
        "\n",
        "print(f\"João recebeu {figurinhas_joao} figurinhas.\")\n"
      ],
      "metadata": {
        "colab": {
          "base_uri": "https://localhost:8080/"
        },
        "id": "aL5npKxJheU8",
        "outputId": "a315743b-9d2a-48a0-8bcd-9f1cda783405"
      },
      "execution_count": 5,
      "outputs": [
        {
          "output_type": "stream",
          "name": "stdout",
          "text": [
            "Digite o total de figurinhas: 2\n",
            "Digite o número de amigos: 2\n",
            "João recebeu 0 figurinhas.\n"
          ]
        }
      ]
    },
    {
      "cell_type": "code",
      "source": [
        "numero_alunos = int(input(\"Digite a quantidade de alunos: \"))\n",
        "numero_monitores = int(input(\"Digite a quantidade de monitores: \"))\n",
        "resposta_positiva = \"Pode ir\"\n",
        "resposta_negativa = \"Não pode ir\"\n",
        "\n",
        "if numero_alunos + numero_monitores <= 50:\n",
        "  print(resposta_positiva)\n",
        "else:\n",
        "  print(resposta_negativa)"
      ],
      "metadata": {
        "colab": {
          "base_uri": "https://localhost:8080/"
        },
        "id": "O7W6sA7HodAk",
        "outputId": "8ce5faa6-2846-4b45-94e9-02f661008883"
      },
      "execution_count": 6,
      "outputs": [
        {
          "output_type": "stream",
          "name": "stdout",
          "text": [
            "Digite a quantidade de alunos: 2\n",
            "Digite a quantidade de monitores: 2\n",
            "Pode ir\n"
          ]
        }
      ]
    },
    {
      "cell_type": "code",
      "source": [
        "p = int(input(\"Digite a posição da porta (0 ou 1):\"))\n",
        "r = int(input(\"Digite a posição da porta (0 ou 1):\"))\n",
        "\n",
        "if p==0 and r==0:\n",
        "  print(\"C\")\n",
        "elif p==0 and r==1:\n",
        "    print(\"C\")\n",
        "elif p==1 and r==1:\n",
        "  print(\"A\")\n",
        "else:\n",
        "  print(\"B\")"
      ],
      "metadata": {
        "colab": {
          "base_uri": "https://localhost:8080/"
        },
        "id": "5Iw3f45Sy3qM",
        "outputId": "61a4dc08-6c9a-4229-e4f5-de09f582caa9"
      },
      "execution_count": 7,
      "outputs": [
        {
          "output_type": "stream",
          "name": "stdout",
          "text": [
            "Digite a posição da porta (0 ou 1):2\n",
            "Digite a posição da porta (0 ou 1):2\n",
            "B\n"
          ]
        }
      ]
    },
    {
      "cell_type": "code",
      "source": [
        "def calcula_idade_maior(idade_monica, idade_filho1, idade_filho2):\n",
        "  idade_filho3 = idade_monica - idade_filho1 - idade_filho2\n",
        "\n",
        "  idade_maxima = max(idade_filho1, idade_filho2, idade_filho3)\n",
        "\n",
        "  return idade_filho3, idade_maxima\n",
        "\n",
        "calcula_idade_maior(68, 12, 30)"
      ],
      "metadata": {
        "colab": {
          "base_uri": "https://localhost:8080/"
        },
        "id": "EBIUtz6T5ftK",
        "outputId": "e26f4c76-aa64-434b-9903-984c0af174ca"
      },
      "execution_count": 8,
      "outputs": [
        {
          "output_type": "execute_result",
          "data": {
            "text/plain": [
              "(26, 30)"
            ]
          },
          "metadata": {},
          "execution_count": 8
        }
      ]
    }
  ]
}